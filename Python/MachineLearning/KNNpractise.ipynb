{
 "cells": [
  {
   "cell_type": "markdown",
   "metadata": {},
   "source": [
    "### 简单的KNN实现\n",
    "来自《机器学习实战》"
   ]
  },
  {
   "cell_type": "code",
   "execution_count": 1,
   "metadata": {
    "collapsed": true
   },
   "outputs": [],
   "source": [
    "from numpy import *\n",
    "import operator"
   ]
  },
  {
   "cell_type": "code",
   "execution_count": 17,
   "metadata": {
    "collapsed": true
   },
   "outputs": [],
   "source": [
    "class KNN:\n",
    "    def createDataset(self):\n",
    "         group = array([[1.0,1.1],[1.0,1.0],[0,0],[0,0.1]])\n",
    "         labels = ['A','A','B','B']\n",
    "         return group,labels\n",
    "    \n",
    "    def KnnClassify(self,testX,trainX,labels,K):\n",
    "        [N,M]=trainX.shape\n",
    "\n",
    "        # 计算测试样本和训练集样本之间的距离\n",
    "        difference = tile(testX,(N,1)) - trainX # tile函数可以将测试样本变成一个N*1的矩阵，即跟训练集样本数相同\n",
    "        difference = difference ** 2 # take pow(difference,2)\n",
    "#         print(difference)\n",
    "        # 对每个样本计算其所有维度的求和值\n",
    "        distance = difference.sum(1) \n",
    "#         print(distance)\n",
    "        distance = distance ** 0.5\n",
    "        # 递增排序，根据距离得到索引值的顺序\n",
    "        sortdiffidx = distance.argsort()\n",
    "#         print(sortdiffidx)\n",
    "\n",
    "        # 寻找最近的K个实例\n",
    "        vote = {} #create the dictionary\n",
    "        for i in range(K):\n",
    "            ith_label = labels[sortdiffidx[i]];\n",
    "            #get(ith_label,0) : if dictionary 'vote' exist key 'ith_label', return vote[ith_label]; else return 0\n",
    "            vote[ith_label] = vote.get(ith_label,0)+1 \n",
    "        sortedvote = sorted(vote.items(),key = lambda x:x[1], reverse = True)\n",
    "        # 'key = lambda x: x[1]' can be substituted by operator.itemgetter(1)\n",
    "        return sortedvote[0][0]"
   ]
  },
  {
   "cell_type": "markdown",
   "metadata": {},
   "source": [
    "#### 测试例子"
   ]
  },
  {
   "cell_type": "code",
   "execution_count": 18,
   "metadata": {
    "collapsed": false
   },
   "outputs": [
    {
     "name": "stdout",
     "output_type": "stream",
     "text": [
      "predict class is  B\n"
     ]
    }
   ],
   "source": [
    "k = KNN() #create KNN object\n",
    "group,labels = k.createDataset()\n",
    "cls = k.KnnClassify([0,0],group,labels,3)\n",
    "print(\"predict class is \",cls)"
   ]
  },
  {
   "cell_type": "code",
   "execution_count": null,
   "metadata": {
    "collapsed": true
   },
   "outputs": [],
   "source": []
  }
 ],
 "metadata": {
  "anaconda-cloud": {},
  "kernelspec": {
   "display_name": "Python [conda root]",
   "language": "python",
   "name": "conda-root-py"
  },
  "language_info": {
   "codemirror_mode": {
    "name": "ipython",
    "version": 3
   },
   "file_extension": ".py",
   "mimetype": "text/x-python",
   "name": "python",
   "nbconvert_exporter": "python",
   "pygments_lexer": "ipython3",
   "version": "3.5.2"
  }
 },
 "nbformat": 4,
 "nbformat_minor": 1
}
